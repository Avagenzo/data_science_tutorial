{
 "cells": [
  {
   "cell_type": "code",
   "execution_count": 1,
   "metadata": {},
   "outputs": [],
   "source": [
    "%config InlineBackend.figure_format = 'retina'"
   ]
  },
  {
   "cell_type": "code",
   "execution_count": 2,
   "metadata": {},
   "outputs": [],
   "source": [
    "%load_ext autoreload\n",
    "\n",
    "%autoreload 1"
   ]
  },
  {
   "cell_type": "code",
   "execution_count": 37,
   "metadata": {},
   "outputs": [],
   "source": [
    "import numpy as np\n",
    "import pandas as pd\n",
    "\n",
    "import pickle\n",
    "\n",
    "from pathlib import Path\n",
    "\n",
    "%matplotlib inline\n",
    "import matplotlib.pyplot as plt"
   ]
  },
  {
   "cell_type": "markdown",
   "metadata": {},
   "source": [
    "# Load data"
   ]
  },
  {
   "cell_type": "code",
   "execution_count": 4,
   "metadata": {},
   "outputs": [],
   "source": [
    "data_root = Path.home() / \"data\" / \"tmp\"\n",
    "reuters_dir = data_root / \"reuters21578\"\n",
    "reuters_corpus_path = reuters_dir / \"corpus.pkl\"\n",
    "reuters = pickle.load(open(str(reuters_corpus_path), \"rb\"))\n",
    "top_ten_ids, top_ten_names = reuters.top_n(n=10)\n",
    "\n",
    "cache_dir = reuters_dir / \"cache\""
   ]
  },
  {
   "cell_type": "markdown",
   "metadata": {},
   "source": [
    "# Build dataframe"
   ]
  },
  {
   "cell_type": "code",
   "execution_count": 5,
   "metadata": {},
   "outputs": [],
   "source": [
    "df, top_ten_ids, train_labels, test_labels = reuters.build_dataframe()"
   ]
  },
  {
   "cell_type": "code",
   "execution_count": 6,
   "metadata": {},
   "outputs": [
    {
     "data": {
      "text/html": [
       "<div>\n",
       "<style scoped>\n",
       "    .dataframe tbody tr th:only-of-type {\n",
       "        vertical-align: middle;\n",
       "    }\n",
       "\n",
       "    .dataframe tbody tr th {\n",
       "        vertical-align: top;\n",
       "    }\n",
       "\n",
       "    .dataframe thead th {\n",
       "        text-align: right;\n",
       "    }\n",
       "</style>\n",
       "<table border=\"1\" class=\"dataframe\">\n",
       "  <thead>\n",
       "    <tr style=\"text-align: right;\">\n",
       "      <th></th>\n",
       "      <th>modapte</th>\n",
       "      <th>category</th>\n",
       "      <th>label</th>\n",
       "      <th>date</th>\n",
       "      <th>title</th>\n",
       "      <th>dateline</th>\n",
       "      <th>body</th>\n",
       "      <th>newid</th>\n",
       "      <th>wd_name</th>\n",
       "    </tr>\n",
       "  </thead>\n",
       "  <tbody>\n",
       "    <tr>\n",
       "      <th>0</th>\n",
       "      <td>train</td>\n",
       "      <td>earn</td>\n",
       "      <td>1</td>\n",
       "      <td>1987-04-01 11:04:07</td>\n",
       "      <td>REPUBLIC SAVINGS AND LOAN &lt;RSLA&gt; SETS DIVIDEND</td>\n",
       "      <td>MILWAUKEE, Wis., April 1 -\\n</td>\n",
       "      <td>Qtly div 30 cts vs 30 cts prior\\n    Pay April...</td>\n",
       "      <td>12001</td>\n",
       "      <td>Wednesday</td>\n",
       "    </tr>\n",
       "    <tr>\n",
       "      <th>1</th>\n",
       "      <td>train</td>\n",
       "      <td>grain</td>\n",
       "      <td>5</td>\n",
       "      <td>1987-04-01 11:04:40</td>\n",
       "      <td>SHULTZ USSR TRIP FUELS TALK OF EEP WHEAT OFFER</td>\n",
       "      <td>WASHINGTON, April 1 -</td>\n",
       "      <td>Speculation the United States will\\noffer subs...</td>\n",
       "      <td>12002</td>\n",
       "      <td>Wednesday</td>\n",
       "    </tr>\n",
       "    <tr>\n",
       "      <th>2</th>\n",
       "      <td>train</td>\n",
       "      <td>sugar</td>\n",
       "      <td>19</td>\n",
       "      <td>1987-04-01 11:05:07</td>\n",
       "      <td>KAINES CONFIRMS WHITE SUGAR SALES TO INDIA</td>\n",
       "      <td>LONDON, April 1 -</td>\n",
       "      <td>London-based sugar operator Kaines Ltd\\nconfir...</td>\n",
       "      <td>12003</td>\n",
       "      <td>Wednesday</td>\n",
       "    </tr>\n",
       "    <tr>\n",
       "      <th>3</th>\n",
       "      <td>train</td>\n",
       "      <td>earn</td>\n",
       "      <td>1</td>\n",
       "      <td>1987-04-01 11:09:11</td>\n",
       "      <td>&lt;THL HOLDINGS INC&gt; YEAR JAN 31 NET</td>\n",
       "      <td>CANTON, Mass., April 1 -\\n</td>\n",
       "      <td>Oper net 94.4 mln vs 74.1 mln\\n    Revs 1.3 bi...</td>\n",
       "      <td>12005</td>\n",
       "      <td>Wednesday</td>\n",
       "    </tr>\n",
       "    <tr>\n",
       "      <th>4</th>\n",
       "      <td>train</td>\n",
       "      <td>acq</td>\n",
       "      <td>0</td>\n",
       "      <td>1987-04-01 11:09:50</td>\n",
       "      <td>MOUNTAIN STATES ADDS TWO MINERALS PROPERTIES</td>\n",
       "      <td>SALT LAKE CITY, April 1 -</td>\n",
       "      <td>Mountain States Resources Corp\\nsaid it acquir...</td>\n",
       "      <td>12007</td>\n",
       "      <td>Wednesday</td>\n",
       "    </tr>\n",
       "  </tbody>\n",
       "</table>\n",
       "</div>"
      ],
      "text/plain": [
       "  modapte category  label                date  \\\n",
       "0   train     earn      1 1987-04-01 11:04:07   \n",
       "1   train    grain      5 1987-04-01 11:04:40   \n",
       "2   train    sugar     19 1987-04-01 11:05:07   \n",
       "3   train     earn      1 1987-04-01 11:09:11   \n",
       "4   train      acq      0 1987-04-01 11:09:50   \n",
       "\n",
       "                                            title  \\\n",
       "0  REPUBLIC SAVINGS AND LOAN <RSLA> SETS DIVIDEND   \n",
       "1  SHULTZ USSR TRIP FUELS TALK OF EEP WHEAT OFFER   \n",
       "2      KAINES CONFIRMS WHITE SUGAR SALES TO INDIA   \n",
       "3              <THL HOLDINGS INC> YEAR JAN 31 NET   \n",
       "4    MOUNTAIN STATES ADDS TWO MINERALS PROPERTIES   \n",
       "\n",
       "                               dateline  \\\n",
       "0      MILWAUKEE, Wis., April 1 -\\n       \n",
       "1                WASHINGTON, April 1 -    \n",
       "2                    LONDON, April 1 -    \n",
       "3        CANTON, Mass., April 1 -\\n       \n",
       "4            SALT LAKE CITY, April 1 -    \n",
       "\n",
       "                                                body  newid    wd_name  \n",
       "0  Qtly div 30 cts vs 30 cts prior\\n    Pay April...  12001  Wednesday  \n",
       "1  Speculation the United States will\\noffer subs...  12002  Wednesday  \n",
       "2  London-based sugar operator Kaines Ltd\\nconfir...  12003  Wednesday  \n",
       "3  Oper net 94.4 mln vs 74.1 mln\\n    Revs 1.3 bi...  12005  Wednesday  \n",
       "4  Mountain States Resources Corp\\nsaid it acquir...  12007  Wednesday  "
      ]
     },
     "execution_count": 6,
     "metadata": {},
     "output_type": "execute_result"
    }
   ],
   "source": [
    "df.head()"
   ]
  },
  {
   "cell_type": "markdown",
   "metadata": {},
   "source": [
    "# Build feature extraction pipeline"
   ]
  },
  {
   "cell_type": "code",
   "execution_count": 7,
   "metadata": {},
   "outputs": [],
   "source": [
    "from sklearn.pipeline import Pipeline\n",
    "from sklearn.pipeline import FeatureUnion\n",
    "\n",
    "from sklearn.preprocessing import Imputer\n",
    "from sklearn.preprocessing import StandardScaler\n",
    "\n",
    "from sklearn.decomposition import TruncatedSVD\n",
    "from sklearn.metrics import classification_report\n",
    "from sklearn.feature_extraction import DictVectorizer\n",
    "from sklearn.base import BaseEstimator, TransformerMixin\n",
    "from sklearn.feature_extraction.text import TfidfVectorizer\n",
    "\n",
    "from sklearn.svm import LinearSVC"
   ]
  },
  {
   "cell_type": "code",
   "execution_count": 8,
   "metadata": {},
   "outputs": [],
   "source": [
    "from ds_tutorial.transformers import TextFromColumns, TextStats, ColumnSelector, TextFromColumns2"
   ]
  },
  {
   "cell_type": "code",
   "execution_count": 9,
   "metadata": {},
   "outputs": [],
   "source": [
    "df_train = df.query(\"modapte == 'train'\")\n",
    "df_test = df.query(\"modapte == 'test'\")\n",
    "y_train = df_train.label.values\n",
    "y_test = df_test.label.values"
   ]
  },
  {
   "cell_type": "code",
   "execution_count": 23,
   "metadata": {},
   "outputs": [],
   "source": [
    "pipeline = Pipeline(memory=str(cache_dir), steps=[\n",
    "    (\"union\", FeatureUnion(transformer_list=[\n",
    "        (\"title_stats\", Pipeline([\n",
    "            (\"column\", ColumnSelector(\"title\")),\n",
    "            (\"stats\", TextStats()),\n",
    "            (\"scaled\", StandardScaler()),\n",
    "        ])),\n",
    "        (\"body_stats\", Pipeline([\n",
    "            (\"column\", ColumnSelector(\"body\")),\n",
    "            (\"stats\", TextStats()),\n",
    "            (\"scaled\", StandardScaler()),\n",
    "        ])),\n",
    "        (\"combined_text\", Pipeline([\n",
    "            (\"column\", TextFromColumns2()),\n",
    "            #(\"tfidf\", TfidfVectorizer(analyzer=\"char_wb\", ngram_range=(1, 5))),\n",
    "            (\"tfidf\", TfidfVectorizer()),\n",
    "            (\"best\", TruncatedSVD(n_components=300, random_state=2018))\n",
    "        ])),\n",
    "\n",
    "    ])),\n",
    "])"
   ]
  },
  {
   "cell_type": "code",
   "execution_count": 24,
   "metadata": {},
   "outputs": [
    {
     "name": "stdout",
     "output_type": "stream",
     "text": [
      "CPU times: user 18 s, sys: 1.49 s, total: 19.5 s\n",
      "Wall time: 8.27 s\n"
     ]
    }
   ],
   "source": [
    "%%time\n",
    "X_train = pipeline.fit_transform(df_train)\n",
    "X_test = pipeline.transform(df_test)"
   ]
  },
  {
   "cell_type": "markdown",
   "metadata": {},
   "source": [
    "## Build multi layer perceptron"
   ]
  },
  {
   "cell_type": "code",
   "execution_count": 25,
   "metadata": {},
   "outputs": [],
   "source": [
    "from tensorflow.python.keras.optimizers import Adam\n",
    "from tensorflow.python.keras import models\n",
    "from tensorflow.python.keras.layers import Dense\n",
    "from tensorflow.python.keras.layers import Dropout"
   ]
  },
  {
   "cell_type": "code",
   "execution_count": 26,
   "metadata": {},
   "outputs": [],
   "source": [
    "def mlp_model(layers, units, dropout_rate, input_shape, num_classes):\n",
    "    model = models.Sequential()\n",
    "    model.add(Dropout(rate=dropout_rate, input_shape=input_shape))\n",
    "\n",
    "    for _ in range(layers-1):\n",
    "        model.add(Dense(units=units, activation='relu'))\n",
    "        model.add(Dropout(rate=dropout_rate))\n",
    "    \n",
    "    model.add(Dense(units=num_classes, activation=\"softmax\"))\n",
    "    return model"
   ]
  },
  {
   "cell_type": "code",
   "execution_count": 27,
   "metadata": {},
   "outputs": [],
   "source": [
    "model = mlp_model(3, 32, 0.2, X_train.shape[1:], 75)"
   ]
  },
  {
   "cell_type": "code",
   "execution_count": 28,
   "metadata": {},
   "outputs": [],
   "source": [
    "optimizer = Adam(lr=1e-3)\n",
    "model.compile(optimizer=optimizer, loss=\"sparse_categorical_crossentropy\", metrics=['acc'])"
   ]
  },
  {
   "cell_type": "code",
   "execution_count": 31,
   "metadata": {},
   "outputs": [
    {
     "name": "stdout",
     "output_type": "stream",
     "text": [
      "Epoch 1/70\n",
      "7770/7770 [==============================] - 0s 51us/step - loss: 0.8793 - acc: 0.7663\n",
      "Epoch 2/70\n",
      "7770/7770 [==============================] - 0s 48us/step - loss: 0.8704 - acc: 0.7644\n",
      "Epoch 3/70\n",
      "7770/7770 [==============================] - 0s 49us/step - loss: 0.8440 - acc: 0.7687\n",
      "Epoch 4/70\n",
      "7770/7770 [==============================] - 0s 49us/step - loss: 0.8185 - acc: 0.7793\n",
      "Epoch 5/70\n",
      "7770/7770 [==============================] - 0s 63us/step - loss: 0.8116 - acc: 0.7788\n",
      "Epoch 6/70\n",
      "7770/7770 [==============================] - 1s 71us/step - loss: 0.7795 - acc: 0.7855\n",
      "Epoch 7/70\n",
      "7770/7770 [==============================] - 1s 72us/step - loss: 0.7617 - acc: 0.7909\n",
      "Epoch 8/70\n",
      "7770/7770 [==============================] - 0s 52us/step - loss: 0.7623 - acc: 0.7900\n",
      "Epoch 9/70\n",
      "7770/7770 [==============================] - 0s 53us/step - loss: 0.7491 - acc: 0.7929\n",
      "Epoch 10/70\n",
      "7770/7770 [==============================] - 0s 51us/step - loss: 0.7423 - acc: 0.7950\n",
      "Epoch 11/70\n",
      "7770/7770 [==============================] - 0s 51us/step - loss: 0.7401 - acc: 0.7916\n",
      "Epoch 12/70\n",
      "7770/7770 [==============================] - 0s 49us/step - loss: 0.7269 - acc: 0.7946\n",
      "Epoch 13/70\n",
      "7770/7770 [==============================] - 0s 49us/step - loss: 0.7154 - acc: 0.8018\n",
      "Epoch 14/70\n",
      "7770/7770 [==============================] - 0s 51us/step - loss: 0.6947 - acc: 0.8039\n",
      "Epoch 15/70\n",
      "7770/7770 [==============================] - 0s 55us/step - loss: 0.6871 - acc: 0.8073\n",
      "Epoch 16/70\n",
      "7770/7770 [==============================] - 0s 49us/step - loss: 0.6797 - acc: 0.8121\n",
      "Epoch 17/70\n",
      "7770/7770 [==============================] - 0s 49us/step - loss: 0.6696 - acc: 0.8099\n",
      "Epoch 18/70\n",
      "7770/7770 [==============================] - 0s 48us/step - loss: 0.6716 - acc: 0.8122\n",
      "Epoch 19/70\n",
      "7770/7770 [==============================] - 0s 48us/step - loss: 0.6614 - acc: 0.8211\n",
      "Epoch 20/70\n",
      "7770/7770 [==============================] - 0s 60us/step - loss: 0.6450 - acc: 0.8207\n",
      "Epoch 21/70\n",
      "7770/7770 [==============================] - 1s 67us/step - loss: 0.6483 - acc: 0.8170\n",
      "Epoch 22/70\n",
      "7770/7770 [==============================] - 0s 53us/step - loss: 0.6471 - acc: 0.8154\n",
      "Epoch 23/70\n",
      "7770/7770 [==============================] - 0s 49us/step - loss: 0.6261 - acc: 0.8214\n",
      "Epoch 24/70\n",
      "7770/7770 [==============================] - 0s 49us/step - loss: 0.6282 - acc: 0.8183\n",
      "Epoch 25/70\n",
      "7770/7770 [==============================] - 0s 48us/step - loss: 0.6240 - acc: 0.8230\n",
      "Epoch 26/70\n",
      "7770/7770 [==============================] - 0s 56us/step - loss: 0.6298 - acc: 0.8230\n",
      "Epoch 27/70\n",
      "7770/7770 [==============================] - 0s 51us/step - loss: 0.6221 - acc: 0.8221\n",
      "Epoch 28/70\n",
      "7770/7770 [==============================] - 0s 49us/step - loss: 0.6052 - acc: 0.8290\n",
      "Epoch 29/70\n",
      "7770/7770 [==============================] - 0s 47us/step - loss: 0.6001 - acc: 0.8279\n",
      "Epoch 30/70\n",
      "7770/7770 [==============================] - 0s 47us/step - loss: 0.6040 - acc: 0.8292\n",
      "Epoch 31/70\n",
      "7770/7770 [==============================] - 0s 49us/step - loss: 0.5924 - acc: 0.8272\n",
      "Epoch 32/70\n",
      "7770/7770 [==============================] - 0s 49us/step - loss: 0.5968 - acc: 0.8265\n",
      "Epoch 33/70\n",
      "7770/7770 [==============================] - 0s 50us/step - loss: 0.5946 - acc: 0.8275\n",
      "Epoch 34/70\n",
      "7770/7770 [==============================] - 0s 52us/step - loss: 0.5821 - acc: 0.8318\n",
      "Epoch 35/70\n",
      "7770/7770 [==============================] - 0s 49us/step - loss: 0.5861 - acc: 0.8318\n",
      "Epoch 36/70\n",
      "7770/7770 [==============================] - 0s 50us/step - loss: 0.5849 - acc: 0.8328\n",
      "Epoch 37/70\n",
      "7770/7770 [==============================] - 0s 49us/step - loss: 0.5886 - acc: 0.8283\n",
      "Epoch 38/70\n",
      "7770/7770 [==============================] - 0s 50us/step - loss: 0.5781 - acc: 0.8340\n",
      "Epoch 39/70\n",
      "7770/7770 [==============================] - 0s 49us/step - loss: 0.5619 - acc: 0.8342\n",
      "Epoch 40/70\n",
      "7770/7770 [==============================] - 0s 50us/step - loss: 0.5662 - acc: 0.8368\n",
      "Epoch 41/70\n",
      "7770/7770 [==============================] - 0s 51us/step - loss: 0.5612 - acc: 0.8360\n",
      "Epoch 42/70\n",
      "7770/7770 [==============================] - 0s 53us/step - loss: 0.5565 - acc: 0.8373\n",
      "Epoch 43/70\n",
      "7770/7770 [==============================] - 0s 49us/step - loss: 0.5824 - acc: 0.8338\n",
      "Epoch 44/70\n",
      "7770/7770 [==============================] - 0s 48us/step - loss: 0.5574 - acc: 0.8382\n",
      "Epoch 45/70\n",
      "7770/7770 [==============================] - 0s 49us/step - loss: 0.5527 - acc: 0.8387\n",
      "Epoch 46/70\n",
      "7770/7770 [==============================] - 0s 49us/step - loss: 0.5522 - acc: 0.8359\n",
      "Epoch 47/70\n",
      "7770/7770 [==============================] - 0s 46us/step - loss: 0.5532 - acc: 0.8377\n",
      "Epoch 48/70\n",
      "7770/7770 [==============================] - 0s 48us/step - loss: 0.5388 - acc: 0.8457\n",
      "Epoch 49/70\n",
      "7770/7770 [==============================] - 0s 49us/step - loss: 0.5276 - acc: 0.8431\n",
      "Epoch 50/70\n",
      "7770/7770 [==============================] - 0s 52us/step - loss: 0.5362 - acc: 0.8457\n",
      "Epoch 51/70\n",
      "7770/7770 [==============================] - 0s 62us/step - loss: 0.5399 - acc: 0.8407\n",
      "Epoch 52/70\n",
      "7770/7770 [==============================] - 0s 51us/step - loss: 0.5389 - acc: 0.8395\n",
      "Epoch 53/70\n",
      "7770/7770 [==============================] - 0s 46us/step - loss: 0.5363 - acc: 0.8435\n",
      "Epoch 54/70\n",
      "7770/7770 [==============================] - 0s 46us/step - loss: 0.5321 - acc: 0.8413\n",
      "Epoch 55/70\n",
      "7770/7770 [==============================] - 0s 47us/step - loss: 0.5276 - acc: 0.8458\n",
      "Epoch 56/70\n",
      "7770/7770 [==============================] - 0s 55us/step - loss: 0.5144 - acc: 0.8465\n",
      "Epoch 57/70\n",
      "7770/7770 [==============================] - 0s 50us/step - loss: 0.5418 - acc: 0.8404\n",
      "Epoch 58/70\n",
      "7770/7770 [==============================] - 0s 45us/step - loss: 0.5271 - acc: 0.8413\n",
      "Epoch 59/70\n",
      "7770/7770 [==============================] - 0s 50us/step - loss: 0.5352 - acc: 0.8427\n",
      "Epoch 60/70\n",
      "7770/7770 [==============================] - 0s 45us/step - loss: 0.5188 - acc: 0.8448\n",
      "Epoch 61/70\n",
      "7770/7770 [==============================] - 0s 45us/step - loss: 0.5170 - acc: 0.8458\n",
      "Epoch 62/70\n",
      "7770/7770 [==============================] - 0s 43us/step - loss: 0.5124 - acc: 0.8457\n",
      "Epoch 63/70\n",
      "7770/7770 [==============================] - 0s 44us/step - loss: 0.5079 - acc: 0.8434\n",
      "Epoch 64/70\n",
      "7770/7770 [==============================] - 0s 44us/step - loss: 0.5172 - acc: 0.8453\n",
      "Epoch 65/70\n",
      "7770/7770 [==============================] - 0s 44us/step - loss: 0.4950 - acc: 0.8458\n",
      "Epoch 66/70\n",
      "7770/7770 [==============================] - 0s 44us/step - loss: 0.5327 - acc: 0.8458\n",
      "Epoch 67/70\n",
      "7770/7770 [==============================] - 0s 46us/step - loss: 0.5025 - acc: 0.8507\n",
      "Epoch 68/70\n",
      "7770/7770 [==============================] - 0s 45us/step - loss: 0.5082 - acc: 0.8499\n",
      "Epoch 69/70\n",
      "7770/7770 [==============================] - 0s 44us/step - loss: 0.5137 - acc: 0.8497\n",
      "Epoch 70/70\n",
      "7770/7770 [==============================] - 0s 44us/step - loss: 0.5072 - acc: 0.8432\n"
     ]
    }
   ],
   "source": [
    "history = model.fit(X_train, y_train, epochs=70)"
   ]
  },
  {
   "cell_type": "code",
   "execution_count": 42,
   "metadata": {},
   "outputs": [
    {
     "name": "stdout",
     "output_type": "stream",
     "text": [
      "             precision    recall  f1-score   support\n",
      "\n",
      "       earn      0.971     0.989     0.980      1087\n",
      "        acq      0.951     0.979     0.965       710\n",
      "   money-fx      0.681     0.855     0.758       145\n",
      "      grain      0.366     0.357     0.361        42\n",
      "      crude      0.725     0.902     0.804       164\n",
      "      trade      0.744     0.826     0.783       109\n",
      "   interest      0.804     0.701     0.749       117\n",
      "       ship      0.625     0.493     0.551        71\n",
      "      wheat      0.648     0.636     0.642        55\n",
      "       corn      0.405     0.667     0.504        45\n",
      "\n",
      "avg / total      0.879     0.915     0.895      2545\n",
      "\n"
     ]
    }
   ],
   "source": [
    "y_pred = model.predict_classes(X_test)\n",
    "print(classification_report(y_test, y_pred, target_names=top_ten_names, labels=top_ten_ids, digits=3))"
   ]
  },
  {
   "cell_type": "code",
   "execution_count": 30,
   "metadata": {},
   "outputs": [
    {
     "name": "stdout",
     "output_type": "stream",
     "text": [
      "             precision    recall  f1-score   support\n",
      "\n",
      "       earn      0.965     0.984     0.974      1087\n",
      "        acq      0.899     0.975     0.935       710\n",
      "   money-fx      0.661     0.821     0.732       145\n",
      "      grain      0.000     0.000     0.000        42\n",
      "      crude      0.714     0.823     0.765       164\n",
      "      trade      0.692     0.844     0.760       109\n",
      "   interest      0.780     0.726     0.752       117\n",
      "       ship      0.405     0.690     0.510        71\n",
      "      wheat      0.440     0.673     0.532        55\n",
      "       corn      0.340     0.711     0.460        45\n",
      "\n",
      "avg / total      0.839     0.908     0.869      2545\n",
      "\n"
     ]
    }
   ],
   "source": [
    "y_pred = model.predict_classes(X_test)\n",
    "print(classification_report(y_test, y_pred, target_names=top_ten_names, labels=top_ten_ids, digits=3))"
   ]
  },
  {
   "cell_type": "code",
   "execution_count": 155,
   "metadata": {},
   "outputs": [
    {
     "name": "stdout",
     "output_type": "stream",
     "text": [
      "             precision    recall  f1-score   support\n",
      "\n",
      "       earn      0.975     0.986     0.981      1087\n",
      "        acq      0.936     0.968     0.952       710\n",
      "   money-fx      0.738     0.834     0.783       145\n",
      "      grain      0.486     0.405     0.442        42\n",
      "      crude      0.765     0.872     0.815       164\n",
      "      trade      0.736     0.817     0.774       109\n",
      "   interest      0.816     0.795     0.805       117\n",
      "       ship      0.688     0.620     0.652        71\n",
      "      wheat      0.760     0.691     0.724        55\n",
      "       corn      0.706     0.800     0.750        45\n",
      "\n",
      "avg / total      0.894     0.919     0.906      2545\n",
      "\n"
     ]
    }
   ],
   "source": [
    "y_pred = model.predict_classes(X_test)\n",
    "print(classification_report(y_test, y_pred, target_names=top_ten_names, labels=top_ten_ids, digits=3))"
   ]
  },
  {
   "cell_type": "code",
   "execution_count": 28,
   "metadata": {},
   "outputs": [
    {
     "name": "stdout",
     "output_type": "stream",
     "text": [
      "             precision    recall  f1-score   support\n",
      "\n",
      "       earn      0.975     0.988     0.981      1087\n",
      "        acq      0.921     0.975     0.947       710\n",
      "   money-fx      0.753     0.800     0.776       145\n",
      "      grain      0.515     0.405     0.453        42\n",
      "      crude      0.761     0.835     0.797       164\n",
      "      trade      0.738     0.853     0.791       109\n",
      "   interest      0.767     0.786     0.776       117\n",
      "       ship      0.629     0.620     0.624        71\n",
      "      wheat      0.776     0.691     0.731        55\n",
      "       corn      0.630     0.756     0.687        45\n",
      "\n",
      "avg / total      0.886     0.918     0.901      2545\n",
      "\n",
      "CPU times: user 30.1 s, sys: 77.9 ms, total: 30.2 s\n",
      "Wall time: 30.3 s\n"
     ]
    }
   ],
   "source": [
    "%%time\n",
    "model = LinearSVC()\n",
    "model.fit(X_train, y_train)\n",
    "y_pred = model.predict(X_test)\n",
    "print(classification_report(y_test, y_pred, target_names=top_ten_names, labels=top_ten_ids, digits=3))"
   ]
  },
  {
   "cell_type": "markdown",
   "metadata": {},
   "source": [
    "# Sequential model"
   ]
  },
  {
   "cell_type": "code",
   "execution_count": 10,
   "metadata": {},
   "outputs": [
    {
     "ename": "SyntaxError",
     "evalue": "invalid syntax (<ipython-input-10-715f2fdc85bf>, line 1)",
     "output_type": "error",
     "traceback": [
      "\u001b[0;36m  File \u001b[0;32m\"<ipython-input-10-715f2fdc85bf>\"\u001b[0;36m, line \u001b[0;32m1\u001b[0m\n\u001b[0;31m    X_train.shape[:]dd\u001b[0m\n\u001b[0m                     ^\u001b[0m\n\u001b[0;31mSyntaxError\u001b[0m\u001b[0;31m:\u001b[0m invalid syntax\n"
     ]
    }
   ],
   "source": [
    "X_train.shape[:]dd"
   ]
  },
  {
   "cell_type": "code",
   "execution_count": 49,
   "metadata": {},
   "outputs": [],
   "source": [
    "model = models.Sequential()\n",
    "model.add(Embedding(\n",
    "    input_dim=X_train.shape[1],\n",
    "    input_shape=X_train.shape[1:],\n",
    "    output_dim=32,\n",
    "    input_length=X_train[0])\n",
    ")"
   ]
  },
  {
   "cell_type": "code",
   "execution_count": 17,
   "metadata": {},
   "outputs": [],
   "source": [
    "def _get_last_layer_units_and_activation(num_classes):\n",
    "    \"\"\"Gets the # units and activation function for the last network layer.\n",
    "\n",
    "    # Arguments\n",
    "        num_classes: int, number of classes.\n",
    "\n",
    "    # Returns\n",
    "        units, activation values.\n",
    "    \"\"\"\n",
    "    if num_classes == 2:\n",
    "        activation = 'sigmoid'\n",
    "        units = 1\n",
    "    else:\n",
    "        activation = 'softmax'\n",
    "        units = num_classes\n",
    "    return units, activation"
   ]
  },
  {
   "cell_type": "code",
   "execution_count": 18,
   "metadata": {},
   "outputs": [],
   "source": [
    "from tensorflow.python.keras import models\n",
    "from tensorflow.python.keras import initializers\n",
    "from tensorflow.python.keras import regularizers\n",
    "\n",
    "from tensorflow.python.keras.layers import Dense\n",
    "from tensorflow.python.keras.layers import Dropout\n",
    "from tensorflow.python.keras.layers import Embedding\n",
    "from tensorflow.python.keras.layers import SeparableConv1D\n",
    "from tensorflow.python.keras.layers import MaxPooling1D\n",
    "from tensorflow.python.keras.layers import GlobalAveragePooling1D\n",
    "\n",
    "def sepcnn_model(blocks,\n",
    "                 filters,\n",
    "                 kernel_size,\n",
    "                 embedding_dim,\n",
    "                 dropout_rate,\n",
    "                 pool_size,\n",
    "                 input_shape,\n",
    "                 num_classes,\n",
    "                 num_features,\n",
    "                 use_pretrained_embedding=False,\n",
    "                 is_embedding_trainable=False,\n",
    "                 embedding_matrix=None):\n",
    "    \"\"\"Creates an instance of a separable CNN model.\n",
    "\n",
    "    # Arguments\n",
    "        blocks: int, number of pairs of sepCNN and pooling blocks in the model.\n",
    "        filters: int, output dimension of the layers.\n",
    "        kernel_size: int, length of the convolution window.\n",
    "        embedding_dim: int, dimension of the embedding vectors.\n",
    "        dropout_rate: float, percentage of input to drop at Dropout layers.\n",
    "        pool_size: int, factor by which to downscale input at MaxPooling layer.\n",
    "        input_shape: tuple, shape of input to the model.\n",
    "        num_classes: int, number of output classes.\n",
    "        num_features: int, number of words (embedding input dimension).\n",
    "        use_pretrained_embedding: bool, true if pre-trained embedding is on.\n",
    "        is_embedding_trainable: bool, true if embedding layer is trainable.\n",
    "        embedding_matrix: dict, dictionary with embedding coefficients.\n",
    "\n",
    "    # Returns\n",
    "        A sepCNN model instance.\n",
    "    \"\"\"\n",
    "    op_units, op_activation = _get_last_layer_units_and_activation(num_classes)\n",
    "    model = models.Sequential()\n",
    "\n",
    "    # Add embedding layer. If pre-trained embedding is used add weights to the\n",
    "    # embeddings layer and set trainable to input is_embedding_trainable flag.\n",
    "    if use_pretrained_embedding:\n",
    "        model.add(Embedding(input_dim=num_features,\n",
    "                            output_dim=embedding_dim,\n",
    "                            input_length=input_shape[0],\n",
    "                            weights=[embedding_matrix],\n",
    "                            trainable=is_embedding_trainable))\n",
    "    else:\n",
    "        model.add(Embedding(input_dim=num_features,\n",
    "                            output_dim=embedding_dim,\n",
    "                            input_length=input_shape[0]))\n",
    "\n",
    "    for _ in range(blocks-1):\n",
    "        model.add(Dropout(rate=dropout_rate))\n",
    "        model.add(SeparableConv1D(filters=filters,\n",
    "                                  kernel_size=kernel_size,\n",
    "                                  activation='relu',\n",
    "                                  bias_initializer='random_uniform',\n",
    "                                  depthwise_initializer='random_uniform',\n",
    "                                  padding='same'))\n",
    "        model.add(SeparableConv1D(filters=filters,\n",
    "                                  kernel_size=kernel_size,\n",
    "                                  activation='relu',\n",
    "                                  bias_initializer='random_uniform',\n",
    "                                  depthwise_initializer='random_uniform',\n",
    "                                  padding='same'))\n",
    "        model.add(MaxPooling1D(pool_size=pool_size))\n",
    "\n",
    "    model.add(SeparableConv1D(filters=filters * 2,\n",
    "                              kernel_size=kernel_size,\n",
    "                              activation='relu',\n",
    "                              bias_initializer='random_uniform',\n",
    "                              depthwise_initializer='random_uniform',\n",
    "                              padding='same'))\n",
    "    model.add(SeparableConv1D(filters=filters * 2,\n",
    "                              kernel_size=kernel_size,\n",
    "                              activation='relu',\n",
    "                              bias_initializer='random_uniform',\n",
    "                              depthwise_initializer='random_uniform',\n",
    "                              padding='same'))\n",
    "    model.add(GlobalAveragePooling1D())\n",
    "    model.add(Dropout(rate=dropout_rate))\n",
    "    model.add(Dense(op_units, activation=op_activation))\n",
    "    return model"
   ]
  },
  {
   "cell_type": "code",
   "execution_count": 19,
   "metadata": {},
   "outputs": [],
   "source": [
    "#TextFromColumns2().transform(df_train)"
   ]
  },
  {
   "cell_type": "code",
   "execution_count": 20,
   "metadata": {},
   "outputs": [],
   "source": [
    "from tensorflow.python.keras.preprocessing import text\n",
    "from tensorflow.python.keras.preprocessing import sequence\n",
    "\n",
    "MAX_SEQUENCE_LENGTH = 500\n",
    "TOP_K = 20000\n",
    "\n",
    "tokenizer = text.Tokenizer(num_words=TOP_K)\n",
    "\n",
    "train_text = TextFromColumns2().transform(df_train)\n",
    "tokenizer.fit_on_texts(train_text)\n",
    "\n",
    "X_train = tokenizer.texts_to_sequences(train_text)\n",
    "test_text = TextFromColumns2().transform(df_test)\n",
    "X_test = tokenizer.texts_to_sequences(test_text)\n",
    "\n",
    "max_length = len(max(X_train, key=len))\n",
    "if max_length > MAX_SEQUENCE_LENGTH:\n",
    "    max_length = MAX_SEQUENCE_LENGTH\n",
    "\n",
    "# Fix sequence length to max value. Sequences shorter than the length are\n",
    "# padded in the beginning and sequences longer are truncated\n",
    "# at the beginning.\n",
    "X_train = sequence.pad_sequences(X_train, maxlen=max_length)\n",
    "X_test = sequence.pad_sequences(X_test, maxlen=max_length)"
   ]
  },
  {
   "cell_type": "code",
   "execution_count": 63,
   "metadata": {},
   "outputs": [],
   "source": [
    "num_features = min(len(tokenizer.word_index) + 1, TOP_K)"
   ]
  },
  {
   "cell_type": "code",
   "execution_count": 64,
   "metadata": {},
   "outputs": [
    {
     "data": {
      "text/plain": [
       "((7770, 500), (3019, 500), 20000)"
      ]
     },
     "execution_count": 64,
     "metadata": {},
     "output_type": "execute_result"
    }
   ],
   "source": [
    "X_train.shape, X_test.shape, num_features"
   ]
  },
  {
   "cell_type": "code",
   "execution_count": 65,
   "metadata": {},
   "outputs": [],
   "source": [
    "model = sepcnn_model(\n",
    "    blocks=2,\n",
    "    filters=64,\n",
    "    kernel_size=3,\n",
    "    embedding_dim=200,\n",
    "    dropout_rate=0.2,\n",
    "    pool_size=3,\n",
    "    input_shape=X_train.shape[1:],\n",
    "    num_classes=75,\n",
    "    num_features=num_features\n",
    ")"
   ]
  },
  {
   "cell_type": "code",
   "execution_count": 66,
   "metadata": {},
   "outputs": [],
   "source": [
    "optimizer = Adam(lr=1e-3)\n",
    "model.compile(optimizer=optimizer, loss=\"sparse_categorical_crossentropy\", metrics=['acc'])"
   ]
  },
  {
   "cell_type": "code",
   "execution_count": 67,
   "metadata": {},
   "outputs": [],
   "source": [
    "import tensorflow as tf\n",
    "callbacks = [tf.keras.callbacks.EarlyStopping(monitor='val_loss', patience=2)]"
   ]
  },
  {
   "cell_type": "code",
   "execution_count": 68,
   "metadata": {},
   "outputs": [
    {
     "name": "stderr",
     "output_type": "stream",
     "text": [
      "/usr/local/lib/python3.5/dist-packages/tensorflow/python/ops/gradients_impl.py:100: UserWarning: Converting sparse IndexedSlices to a dense Tensor of unknown shape. This may consume a large amount of memory.\n",
      "  \"Converting sparse IndexedSlices to a dense Tensor of unknown shape. \"\n"
     ]
    },
    {
     "name": "stdout",
     "output_type": "stream",
     "text": [
      "Train on 7770 samples, validate on 3019 samples\n",
      "Epoch 1/100\n",
      "7770/7770 [==============================] - 6s 739us/step - loss: 2.6886 - acc: 0.3319 - val_loss: 2.3779 - val_acc: 0.3760\n",
      "Epoch 2/100\n",
      "7770/7770 [==============================] - 5s 585us/step - loss: 2.3231 - acc: 0.4041 - val_loss: 2.0919 - val_acc: 0.4495\n",
      "Epoch 3/100\n",
      "7770/7770 [==============================] - 5s 583us/step - loss: 1.9468 - acc: 0.5287 - val_loss: 1.7966 - val_acc: 0.6042\n",
      "Epoch 4/100\n",
      "7770/7770 [==============================] - 5s 586us/step - loss: 1.6344 - acc: 0.5849 - val_loss: 1.5972 - val_acc: 0.6247\n",
      "Epoch 5/100\n",
      "7770/7770 [==============================] - 5s 583us/step - loss: 1.4859 - acc: 0.6165 - val_loss: 1.4256 - val_acc: 0.6558\n",
      "Epoch 6/100\n",
      "7770/7770 [==============================] - 5s 580us/step - loss: 1.3698 - acc: 0.6448 - val_loss: 1.4232 - val_acc: 0.6645\n",
      "Epoch 7/100\n",
      "7770/7770 [==============================] - 5s 583us/step - loss: 1.2705 - acc: 0.6741 - val_loss: 1.3227 - val_acc: 0.6814\n",
      "Epoch 8/100\n",
      "7770/7770 [==============================] - 5s 584us/step - loss: 1.1383 - acc: 0.7019 - val_loss: 1.1971 - val_acc: 0.7145\n",
      "Epoch 9/100\n",
      "7770/7770 [==============================] - 5s 582us/step - loss: 1.0605 - acc: 0.7214 - val_loss: 1.2315 - val_acc: 0.7274\n",
      "Epoch 10/100\n",
      "7770/7770 [==============================] - 5s 584us/step - loss: 0.9958 - acc: 0.7382 - val_loss: 1.1806 - val_acc: 0.7373\n",
      "Epoch 11/100\n",
      "7770/7770 [==============================] - 5s 587us/step - loss: 0.9081 - acc: 0.7582 - val_loss: 1.1211 - val_acc: 0.7463\n",
      "Epoch 12/100\n",
      "7770/7770 [==============================] - 5s 587us/step - loss: 0.8570 - acc: 0.7723 - val_loss: 1.1224 - val_acc: 0.7575\n",
      "Epoch 13/100\n",
      "7770/7770 [==============================] - 5s 581us/step - loss: 0.7930 - acc: 0.7909 - val_loss: 1.0803 - val_acc: 0.7638\n",
      "Epoch 14/100\n",
      "7770/7770 [==============================] - 5s 584us/step - loss: 0.7264 - acc: 0.8044 - val_loss: 1.0640 - val_acc: 0.7665\n",
      "Epoch 15/100\n",
      "7770/7770 [==============================] - 5s 586us/step - loss: 0.6879 - acc: 0.8169 - val_loss: 1.0749 - val_acc: 0.7685\n",
      "Epoch 16/100\n",
      "7770/7770 [==============================] - 5s 582us/step - loss: 0.6340 - acc: 0.8272 - val_loss: 1.0734 - val_acc: 0.7589\n",
      "Epoch 17/100\n",
      "7770/7770 [==============================] - 5s 584us/step - loss: 0.5640 - acc: 0.8467 - val_loss: 1.0700 - val_acc: 0.7784\n",
      "Epoch 18/100\n",
      "7770/7770 [==============================] - 5s 582us/step - loss: 0.5253 - acc: 0.8582 - val_loss: 1.0511 - val_acc: 0.7748\n",
      "Epoch 19/100\n",
      "7770/7770 [==============================] - 5s 582us/step - loss: 0.4926 - acc: 0.8616 - val_loss: 1.0204 - val_acc: 0.7867\n",
      "Epoch 20/100\n",
      "7770/7770 [==============================] - 5s 583us/step - loss: 0.4412 - acc: 0.8740 - val_loss: 1.0377 - val_acc: 0.7933\n",
      "Epoch 21/100\n",
      "7770/7770 [==============================] - 5s 586us/step - loss: 0.4060 - acc: 0.8829 - val_loss: 1.0490 - val_acc: 0.7920\n",
      "Epoch 22/100\n",
      "7770/7770 [==============================] - 5s 589us/step - loss: 0.3974 - acc: 0.8869 - val_loss: 1.0797 - val_acc: 0.7917\n",
      "Epoch 23/100\n",
      "7770/7770 [==============================] - 5s 583us/step - loss: 0.4128 - acc: 0.8834 - val_loss: 1.1138 - val_acc: 0.7917\n",
      "Epoch 24/100\n",
      "7770/7770 [==============================] - 5s 584us/step - loss: 0.3582 - acc: 0.8950 - val_loss: 1.0337 - val_acc: 0.8013\n",
      "Epoch 25/100\n",
      "7770/7770 [==============================] - 5s 583us/step - loss: 0.3143 - acc: 0.9102 - val_loss: 1.1067 - val_acc: 0.7814\n",
      "Epoch 26/100\n",
      "7770/7770 [==============================] - 5s 588us/step - loss: 0.3110 - acc: 0.9100 - val_loss: 1.1266 - val_acc: 0.7784\n",
      "Epoch 27/100\n",
      "7770/7770 [==============================] - 5s 582us/step - loss: 0.3289 - acc: 0.9046 - val_loss: 1.0803 - val_acc: 0.7867\n",
      "Epoch 28/100\n",
      "7770/7770 [==============================] - 5s 586us/step - loss: 0.2912 - acc: 0.9134 - val_loss: 1.1577 - val_acc: 0.7979\n",
      "Epoch 29/100\n",
      "7770/7770 [==============================] - 5s 584us/step - loss: 0.2613 - acc: 0.9265 - val_loss: 1.1224 - val_acc: 0.7844\n",
      "Epoch 30/100\n",
      "7770/7770 [==============================] - 5s 581us/step - loss: 0.2729 - acc: 0.9192 - val_loss: 1.1419 - val_acc: 0.7996\n",
      "Epoch 31/100\n",
      "7770/7770 [==============================] - 4s 578us/step - loss: 0.2344 - acc: 0.9314 - val_loss: 1.1256 - val_acc: 0.7960\n",
      "Epoch 32/100\n",
      "7770/7770 [==============================] - 5s 582us/step - loss: 0.2125 - acc: 0.9369 - val_loss: 1.1528 - val_acc: 0.8049\n",
      "Epoch 33/100\n",
      "7770/7770 [==============================] - 5s 584us/step - loss: 0.2650 - acc: 0.9221 - val_loss: 1.1158 - val_acc: 0.8056\n",
      "Epoch 34/100\n",
      "7770/7770 [==============================] - 5s 585us/step - loss: 0.2030 - acc: 0.9423 - val_loss: 1.2030 - val_acc: 0.8072\n",
      "Epoch 35/100\n",
      "7770/7770 [==============================] - 5s 583us/step - loss: 0.2017 - acc: 0.9420 - val_loss: 1.2336 - val_acc: 0.8069\n",
      "Epoch 36/100\n",
      "7770/7770 [==============================] - 5s 583us/step - loss: 0.2017 - acc: 0.9411 - val_loss: 1.2056 - val_acc: 0.7930\n",
      "Epoch 37/100\n",
      "7770/7770 [==============================] - 5s 582us/step - loss: 0.2179 - acc: 0.9373 - val_loss: 1.2054 - val_acc: 0.8115\n",
      "Epoch 38/100\n",
      "7770/7770 [==============================] - 5s 585us/step - loss: 0.1667 - acc: 0.9525 - val_loss: 1.3336 - val_acc: 0.8066\n",
      "Epoch 39/100\n",
      "7770/7770 [==============================] - 5s 581us/step - loss: 0.1725 - acc: 0.9493 - val_loss: 1.3641 - val_acc: 0.7960\n",
      "Epoch 40/100\n",
      "7770/7770 [==============================] - 5s 586us/step - loss: 0.1789 - acc: 0.9484 - val_loss: 1.2115 - val_acc: 0.8105\n",
      "Epoch 41/100\n",
      "7770/7770 [==============================] - 5s 583us/step - loss: 0.1447 - acc: 0.9589 - val_loss: 1.2667 - val_acc: 0.7986\n",
      "Epoch 42/100\n",
      "7770/7770 [==============================] - 5s 583us/step - loss: 0.1555 - acc: 0.9553 - val_loss: 1.2782 - val_acc: 0.8029\n",
      "Epoch 43/100\n",
      "7770/7770 [==============================] - 5s 581us/step - loss: 0.1263 - acc: 0.9631 - val_loss: 1.2644 - val_acc: 0.8009\n",
      "Epoch 44/100\n",
      "7770/7770 [==============================] - 5s 589us/step - loss: 0.1425 - acc: 0.9587 - val_loss: 1.3520 - val_acc: 0.7979\n",
      "Epoch 45/100\n",
      "7770/7770 [==============================] - 5s 584us/step - loss: 0.1236 - acc: 0.9633 - val_loss: 1.3555 - val_acc: 0.8029\n",
      "Epoch 46/100\n",
      "7770/7770 [==============================] - 5s 586us/step - loss: 0.1158 - acc: 0.9671 - val_loss: 1.3182 - val_acc: 0.8046\n",
      "Epoch 47/100\n",
      "7770/7770 [==============================] - 5s 591us/step - loss: 0.1379 - acc: 0.9620 - val_loss: 1.3479 - val_acc: 0.7956\n",
      "Epoch 48/100\n",
      "7770/7770 [==============================] - 5s 583us/step - loss: 0.1160 - acc: 0.9685 - val_loss: 1.3046 - val_acc: 0.8039\n",
      "Epoch 49/100\n",
      "7770/7770 [==============================] - 5s 584us/step - loss: 0.1079 - acc: 0.9701 - val_loss: 1.3100 - val_acc: 0.8039\n",
      "Epoch 50/100\n",
      "7770/7770 [==============================] - 5s 585us/step - loss: 0.1256 - acc: 0.9671 - val_loss: 1.3649 - val_acc: 0.8056\n",
      "Epoch 51/100\n",
      "7770/7770 [==============================] - 5s 584us/step - loss: 0.1015 - acc: 0.9712 - val_loss: 1.4126 - val_acc: 0.8066\n",
      "Epoch 52/100\n",
      "7770/7770 [==============================] - 5s 582us/step - loss: 0.1059 - acc: 0.9708 - val_loss: 1.4627 - val_acc: 0.8039\n",
      "Epoch 53/100\n",
      "7770/7770 [==============================] - 5s 582us/step - loss: 0.0924 - acc: 0.9753 - val_loss: 1.4318 - val_acc: 0.8069\n",
      "Epoch 54/100\n",
      "7770/7770 [==============================] - 5s 583us/step - loss: 0.0906 - acc: 0.9766 - val_loss: 1.4265 - val_acc: 0.8056\n",
      "Epoch 55/100\n",
      "7770/7770 [==============================] - 5s 584us/step - loss: 0.0842 - acc: 0.9767 - val_loss: 1.4570 - val_acc: 0.8132\n",
      "Epoch 56/100\n",
      "7770/7770 [==============================] - 5s 583us/step - loss: 0.1008 - acc: 0.9707 - val_loss: 1.4767 - val_acc: 0.7946\n",
      "Epoch 57/100\n",
      "7770/7770 [==============================] - 5s 585us/step - loss: 0.0904 - acc: 0.9748 - val_loss: 1.4346 - val_acc: 0.8089\n",
      "Epoch 58/100\n",
      "7770/7770 [==============================] - 5s 593us/step - loss: 0.1464 - acc: 0.9616 - val_loss: 1.2365 - val_acc: 0.7979\n",
      "Epoch 59/100\n",
      "7770/7770 [==============================] - 5s 592us/step - loss: 0.0900 - acc: 0.9775 - val_loss: 1.3548 - val_acc: 0.8112\n",
      "Epoch 60/100\n"
     ]
    },
    {
     "name": "stdout",
     "output_type": "stream",
     "text": [
      "7770/7770 [==============================] - 5s 591us/step - loss: 0.0889 - acc: 0.9761 - val_loss: 1.4095 - val_acc: 0.8132\n",
      "Epoch 61/100\n",
      "7770/7770 [==============================] - 5s 589us/step - loss: 0.0756 - acc: 0.9781 - val_loss: 1.4467 - val_acc: 0.8158\n",
      "Epoch 62/100\n",
      "7770/7770 [==============================] - 5s 592us/step - loss: 0.0847 - acc: 0.9788 - val_loss: 1.4117 - val_acc: 0.8105\n",
      "Epoch 63/100\n",
      "7770/7770 [==============================] - 5s 581us/step - loss: 0.0676 - acc: 0.9816 - val_loss: 1.4729 - val_acc: 0.8129\n",
      "Epoch 64/100\n",
      "7770/7770 [==============================] - 5s 587us/step - loss: 0.0654 - acc: 0.9822 - val_loss: 1.4885 - val_acc: 0.8105\n",
      "Epoch 65/100\n",
      "7770/7770 [==============================] - 5s 585us/step - loss: 0.0762 - acc: 0.9792 - val_loss: 1.5360 - val_acc: 0.8112\n",
      "Epoch 66/100\n",
      "7770/7770 [==============================] - 5s 582us/step - loss: 0.0680 - acc: 0.9811 - val_loss: 1.4947 - val_acc: 0.8089\n",
      "Epoch 67/100\n",
      "7770/7770 [==============================] - 5s 586us/step - loss: 0.0648 - acc: 0.9824 - val_loss: 1.5891 - val_acc: 0.8029\n",
      "Epoch 68/100\n",
      "7770/7770 [==============================] - 5s 580us/step - loss: 0.0844 - acc: 0.9757 - val_loss: 1.5718 - val_acc: 0.8029\n",
      "Epoch 69/100\n",
      "7770/7770 [==============================] - 5s 584us/step - loss: 0.0999 - acc: 0.9754 - val_loss: 1.5174 - val_acc: 0.7933\n",
      "Epoch 70/100\n",
      "7770/7770 [==============================] - 5s 583us/step - loss: 0.0918 - acc: 0.9768 - val_loss: 1.5753 - val_acc: 0.7979\n",
      "Epoch 71/100\n",
      "7770/7770 [==============================] - 5s 582us/step - loss: 0.0879 - acc: 0.9768 - val_loss: 1.5886 - val_acc: 0.8132\n",
      "Epoch 72/100\n",
      "7770/7770 [==============================] - 5s 582us/step - loss: 0.1340 - acc: 0.9680 - val_loss: 1.3395 - val_acc: 0.8076\n",
      "Epoch 73/100\n",
      "7770/7770 [==============================] - 5s 582us/step - loss: 0.0684 - acc: 0.9820 - val_loss: 1.4513 - val_acc: 0.8145\n",
      "Epoch 74/100\n",
      "7770/7770 [==============================] - 4s 579us/step - loss: 0.0590 - acc: 0.9843 - val_loss: 1.6022 - val_acc: 0.7999\n",
      "Epoch 75/100\n",
      "7770/7770 [==============================] - 5s 585us/step - loss: 0.0710 - acc: 0.9816 - val_loss: 1.6594 - val_acc: 0.8076\n",
      "Epoch 76/100\n",
      "7770/7770 [==============================] - 5s 585us/step - loss: 0.0635 - acc: 0.9838 - val_loss: 1.4506 - val_acc: 0.8138\n",
      "Epoch 77/100\n",
      "7770/7770 [==============================] - 5s 586us/step - loss: 0.0503 - acc: 0.9871 - val_loss: 1.5324 - val_acc: 0.8112\n",
      "Epoch 78/100\n",
      "7770/7770 [==============================] - 5s 581us/step - loss: 0.0600 - acc: 0.9856 - val_loss: 1.6449 - val_acc: 0.8016\n",
      "Epoch 79/100\n",
      "7770/7770 [==============================] - 5s 581us/step - loss: 0.0727 - acc: 0.9806 - val_loss: 1.5016 - val_acc: 0.8122\n",
      "Epoch 80/100\n",
      "7770/7770 [==============================] - 5s 582us/step - loss: 0.0533 - acc: 0.9848 - val_loss: 1.5419 - val_acc: 0.8102\n",
      "Epoch 81/100\n",
      "7770/7770 [==============================] - 5s 580us/step - loss: 0.0476 - acc: 0.9864 - val_loss: 1.5970 - val_acc: 0.8115\n",
      "Epoch 82/100\n",
      "7770/7770 [==============================] - 5s 587us/step - loss: 0.0484 - acc: 0.9873 - val_loss: 1.5610 - val_acc: 0.8109\n",
      "Epoch 83/100\n",
      "7770/7770 [==============================] - 5s 591us/step - loss: 0.0630 - acc: 0.9826 - val_loss: 1.5300 - val_acc: 0.8059\n",
      "Epoch 84/100\n",
      "7770/7770 [==============================] - 5s 587us/step - loss: 0.0946 - acc: 0.9762 - val_loss: 1.4147 - val_acc: 0.7966\n",
      "Epoch 85/100\n",
      "7770/7770 [==============================] - 5s 586us/step - loss: 0.0710 - acc: 0.9810 - val_loss: 1.3955 - val_acc: 0.8178\n",
      "Epoch 86/100\n",
      "7770/7770 [==============================] - 5s 585us/step - loss: 0.0471 - acc: 0.9880 - val_loss: 1.4958 - val_acc: 0.8172\n",
      "Epoch 87/100\n",
      "7770/7770 [==============================] - 5s 580us/step - loss: 0.0524 - acc: 0.9857 - val_loss: 1.5784 - val_acc: 0.8085\n",
      "Epoch 88/100\n",
      "7770/7770 [==============================] - 5s 582us/step - loss: 0.0447 - acc: 0.9882 - val_loss: 1.5688 - val_acc: 0.8129\n",
      "Epoch 89/100\n",
      "7770/7770 [==============================] - 5s 580us/step - loss: 0.0521 - acc: 0.9865 - val_loss: 1.6138 - val_acc: 0.8062\n",
      "Epoch 90/100\n",
      "7770/7770 [==============================] - 5s 583us/step - loss: 0.0634 - acc: 0.9821 - val_loss: 1.5128 - val_acc: 0.8152\n",
      "Epoch 91/100\n",
      "7770/7770 [==============================] - 5s 586us/step - loss: 0.0429 - acc: 0.9879 - val_loss: 1.5694 - val_acc: 0.8125\n",
      "Epoch 92/100\n",
      "7770/7770 [==============================] - 5s 582us/step - loss: 0.0764 - acc: 0.9786 - val_loss: 1.5441 - val_acc: 0.8102\n",
      "Epoch 93/100\n",
      "7770/7770 [==============================] - 5s 591us/step - loss: 0.0604 - acc: 0.9835 - val_loss: 1.6517 - val_acc: 0.7986\n",
      "Epoch 94/100\n",
      "7770/7770 [==============================] - 5s 592us/step - loss: 0.0812 - acc: 0.9802 - val_loss: 1.6044 - val_acc: 0.7976\n",
      "Epoch 95/100\n",
      "7770/7770 [==============================] - 5s 586us/step - loss: 0.0457 - acc: 0.9878 - val_loss: 1.5699 - val_acc: 0.8112\n",
      "Epoch 96/100\n",
      "7770/7770 [==============================] - 5s 588us/step - loss: 0.0472 - acc: 0.9871 - val_loss: 1.5681 - val_acc: 0.8142\n",
      "Epoch 97/100\n",
      "7770/7770 [==============================] - 5s 585us/step - loss: 0.0565 - acc: 0.9856 - val_loss: 1.6059 - val_acc: 0.8125\n",
      "Epoch 98/100\n",
      "7770/7770 [==============================] - 5s 581us/step - loss: 0.0634 - acc: 0.9819 - val_loss: 1.5691 - val_acc: 0.8052\n",
      "Epoch 99/100\n",
      "7770/7770 [==============================] - 5s 583us/step - loss: 0.0509 - acc: 0.9871 - val_loss: 1.5825 - val_acc: 0.8085\n",
      "Epoch 100/100\n",
      "7770/7770 [==============================] - 5s 584us/step - loss: 0.0478 - acc: 0.9865 - val_loss: 1.5496 - val_acc: 0.8056\n",
      "CPU times: user 5min 15s, sys: 1min 34s, total: 6min 49s\n",
      "Wall time: 7min 36s\n"
     ]
    }
   ],
   "source": [
    "%%time\n",
    "history = model.fit(\n",
    "    X_train,\n",
    "    y_train,\n",
    "    epochs=100,\n",
    "    validation_data=(X_test, y_test),\n",
    "    #callbacks=callbacks,\n",
    "    batch_size=128\n",
    ")"
   ]
  },
  {
   "cell_type": "code",
   "execution_count": 69,
   "metadata": {},
   "outputs": [],
   "source": [
    "import json\n",
    "\n",
    "models_dir = data_root / \"models\" \n",
    "models_dir.mkdir(exist_ok=True)\n",
    "model.save(models_dir / \"reuters_sequential.h5\")\n",
    "\n",
    "history_path = models_dir / \"reuters_sequential.json\"\n",
    "with open(str(history_path), \"w\") as f:\n",
    "    json.dump(history.history, f)"
   ]
  },
  {
   "cell_type": "code",
   "execution_count": 70,
   "metadata": {},
   "outputs": [],
   "source": [
    "history = json.load(open(str(history_path)))"
   ]
  },
  {
   "cell_type": "code",
   "execution_count": 71,
   "metadata": {},
   "outputs": [
    {
     "name": "stdout",
     "output_type": "stream",
     "text": [
      "             precision    recall  f1-score   support\n",
      "\n",
      "       earn      0.960     0.983     0.972      1087\n",
      "        acq      0.950     0.911     0.930       710\n",
      "   money-fx      0.595     0.690     0.639       145\n",
      "      grain      0.303     0.476     0.370        42\n",
      "      crude      0.696     0.811     0.749       164\n",
      "      trade      0.713     0.661     0.686       109\n",
      "   interest      0.598     0.650     0.623       117\n",
      "       ship      0.540     0.380     0.446        71\n",
      "      wheat      0.722     0.473     0.571        55\n",
      "       corn      0.508     0.667     0.577        45\n",
      "\n",
      "avg / total      0.857     0.864     0.858      2545\n",
      "\n"
     ]
    }
   ],
   "source": [
    "y_pred = model.predict_classes(X_test)\n",
    "print(classification_report(y_test, y_pred, target_names=top_ten_names, labels=top_ten_ids, digits=3))"
   ]
  },
  {
   "cell_type": "markdown",
   "metadata": {},
   "source": [
    "# Plot training vs test accuracy"
   ]
  },
  {
   "cell_type": "code",
   "execution_count": 72,
   "metadata": {},
   "outputs": [
    {
     "data": {
      "image/png": "[encoded data removed]",
      "text/plain": [
       "<Figure size 1080x1440 with 2 Axes>"
      ]
     },
     "metadata": {},
     "output_type": "display_data"
    }
   ],
   "source": [
    "import matplotlib.pyplot as plt\n",
    "\n",
    "acc = history['acc']\n",
    "val_acc = history['val_acc']\n",
    "loss = history['loss']\n",
    "val_loss = history['val_loss']\n",
    "\n",
    "epochs = range(len(acc))\n",
    "\n",
    "plt.figure(figsize=(15, 20))\n",
    "\n",
    "plt.subplot(211)\n",
    "\n",
    "plt.plot(epochs, acc, 'bo', label='Training acc')\n",
    "plt.plot(epochs, val_acc, 'b', label='Validation acc')\n",
    "plt.title('Training and validation accuracy')\n",
    "plt.legend()\n",
    "\n",
    "plt.subplot(212)\n",
    "\n",
    "plt.plot(epochs, loss, 'bo', label='Training loss')\n",
    "plt.plot(epochs, val_loss, 'b', label='Validation loss')\n",
    "plt.title('Training and validation loss')\n",
    "plt.legend()\n",
    "\n",
    "plt.show()"
   ]
  },
  {
   "cell_type": "code",
   "execution_count": null,
   "metadata": {},
   "outputs": [],
   "source": []
  }
 ],
 "metadata": {
  "kernelspec": {
   "display_name": "Python 3",
   "language": "python",
   "name": "python3"
  },
  "language_info": {
   "codemirror_mode": {
    "name": "ipython",
    "version": 3
   },
   "file_extension": ".py",
   "mimetype": "text/x-python",
   "name": "python",
   "nbconvert_exporter": "python",
   "pygments_lexer": "ipython3",
   "version": "3.5.3"
  }
 },
 "nbformat": 4,
 "nbformat_minor": 2
}
