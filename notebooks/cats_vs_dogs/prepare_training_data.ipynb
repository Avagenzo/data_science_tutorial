{
 "cells": [
  {
   "cell_type": "markdown",
   "metadata": {},
   "source": [
    "# Fetch data and prepare sample\n",
    "\n",
    "* The complete training dataset has 25k images, 12.5k from cats and 12.5k from dogs.\n",
    "* We use 1000 images each for training and 500 for validation / test."
   ]
  },
  {
   "cell_type": "markdown",
   "metadata": {},
   "source": [
    "## Fetch training data"
   ]
  },
  {
   "cell_type": "code",
   "execution_count": 1,
   "metadata": {},
   "outputs": [],
   "source": [
    "import os\n",
    "import requests\n",
    "\n",
    "from tqdm import tqdm_notebook as tqdm"
   ]
  },
  {
   "cell_type": "code",
   "execution_count": 2,
   "metadata": {},
   "outputs": [],
   "source": [
    "home_dir = os.environ[\"HOME\"]\n",
    "archive_name = \"cats_vs_dogs.zip\"\n",
    "data_dir = os.path.join(home_dir, \"data\", \"tmp\")\n",
    "training_data_url = \"https://d2b7dn9rofvhjd.cloudfront.net/{}\".format(archive_name)\n",
    "training_data_path = os.path.join(data_dir, archive_name)"
   ]
  },
  {
   "cell_type": "code",
   "execution_count": 3,
   "metadata": {},
   "outputs": [],
   "source": [
    "def download_from_url(url, dst, chunk_size=1024):\n",
    "    \"\"\"\n",
    "    @param: url to download\n",
    "    @param: dst path to destination file\n",
    "    \"\"\"\n",
    "    file_size = int(requests.head(url).headers[\"Content-Length\"])\n",
    "    first_byte = os.path.getsize(dst) if os.path.exists(dst) else 0\n",
    "    \n",
    "    # return early when we are already done\n",
    "    if first_byte >= file_size:\n",
    "        return file_size\n",
    "    \n",
    "    # download first_byte to file_size\n",
    "    header = {\"Range\": \"bytes={}-{}\".format(first_byte, file_size)}\n",
    "    pbar = tqdm(\n",
    "        total=file_size, initial=first_byte,\n",
    "        unit='B', unit_scale=True, desc=url.split('/')[-1])\n",
    "    req = requests.get(url, headers=header, stream=True)\n",
    "    with(open(dst, 'ab')) as f:\n",
    "        for chunk in req.iter_content(chunk_size=chunk_size):\n",
    "            if chunk:\n",
    "                f.write(chunk)\n",
    "                pbar.update(chunk_size)\n",
    "    pbar.close()\n",
    "    return file_size"
   ]
  },
  {
   "cell_type": "code",
   "execution_count": 5,
   "metadata": {},
   "outputs": [
    {
     "data": {
      "application/vnd.jupyter.widget-view+json": {
       "model_id": "0bf4ce8749a44d48b06f34900f3bc36d",
       "version_major": 2,
       "version_minor": 0
      },
      "text/plain": [
       "HBox(children=(IntProgress(value=0, description='cats_vs_dogs.zip', max=571167138), HTML(value='')))"
      ]
     },
     "metadata": {},
     "output_type": "display_data"
    }
   ],
   "source": [
    "file_size = download_from_url(training_data_url, training_data_path)"
   ]
  },
  {
   "cell_type": "markdown",
   "metadata": {},
   "source": [
    "## Unpack archive"
   ]
  },
  {
   "cell_type": "code",
   "execution_count": 6,
   "metadata": {},
   "outputs": [],
   "source": [
    "import zipfile"
   ]
  },
  {
   "cell_type": "code",
   "execution_count": 7,
   "metadata": {},
   "outputs": [
    {
     "name": "stdout",
     "output_type": "stream",
     "text": [
      "CPU times: user 10.3 s, sys: 4.75 s, total: 15 s\n",
      "Wall time: 15.3 s\n"
     ]
    }
   ],
   "source": [
    "%%time\n",
    "archive = zipfile.ZipFile(training_data_path, 'r')\n",
    "archive.extractall(data_dir)\n",
    "archive.close()"
   ]
  },
  {
   "cell_type": "code",
   "execution_count": 8,
   "metadata": {},
   "outputs": [],
   "source": [
    "os.unlink(training_data_path)"
   ]
  },
  {
   "cell_type": "code",
   "execution_count": 9,
   "metadata": {},
   "outputs": [],
   "source": [
    "original_data_dir = os.path.join(data_dir, os.listdir(data_dir)[0])"
   ]
  },
  {
   "cell_type": "markdown",
   "metadata": {},
   "source": [
    "## Create sample data"
   ]
  },
  {
   "cell_type": "code",
   "execution_count": 10,
   "metadata": {},
   "outputs": [],
   "source": [
    "from shutil import copy"
   ]
  },
  {
   "cell_type": "markdown",
   "metadata": {},
   "source": [
    "### Create directories"
   ]
  },
  {
   "cell_type": "code",
   "execution_count": 19,
   "metadata": {},
   "outputs": [],
   "source": [
    "sample_dir = os.path.join(data_dir, \"cats_vs_dogs_sample\")\n",
    "\n",
    "leaf_dirs = {}\n",
    "for part in (\"test\", \"train\", \"validation\"):\n",
    "    for category in (\"cats\", \"dogs\"):\n",
    "        leaf_dir = os.path.join(sample_dir, part, category)\n",
    "        os.makedirs(leaf_dir, exist_ok=True)\n",
    "        leaf_dirs[(part, category)] = leaf_dir"
   ]
  },
  {
   "cell_type": "markdown",
   "metadata": {},
   "source": [
    "### Copy files"
   ]
  },
  {
   "cell_type": "code",
   "execution_count": 20,
   "metadata": {},
   "outputs": [],
   "source": [
    "def copy_files_range(src_dir, dst_dir, file_template, start, stop):\n",
    "    print(src_dir, dst_dir)\n",
    "    fnames = (file_template.format(i) for i in range(start, stop))\n",
    "    for fname in fnames:\n",
    "        src = os.path.join(src_dir, fname)\n",
    "        copy(src, dst_dir)"
   ]
  },
  {
   "cell_type": "code",
   "execution_count": 21,
   "metadata": {},
   "outputs": [
    {
     "name": "stdout",
     "output_type": "stream",
     "text": [
      "/Users/jochen/data/tmp/cats_vs_dogs /Users/jochen/data/tmp/cats_vs_dogs_sample/train/cats\n",
      "/Users/jochen/data/tmp/cats_vs_dogs /Users/jochen/data/tmp/cats_vs_dogs_sample/train/dogs\n",
      "/Users/jochen/data/tmp/cats_vs_dogs /Users/jochen/data/tmp/cats_vs_dogs_sample/validation/cats\n",
      "/Users/jochen/data/tmp/cats_vs_dogs /Users/jochen/data/tmp/cats_vs_dogs_sample/validation/dogs\n",
      "/Users/jochen/data/tmp/cats_vs_dogs /Users/jochen/data/tmp/cats_vs_dogs_sample/test/cats\n",
      "/Users/jochen/data/tmp/cats_vs_dogs /Users/jochen/data/tmp/cats_vs_dogs_sample/test/dogs\n",
      "CPU times: user 495 ms, sys: 1.26 s, total: 1.75 s\n",
      "Wall time: 2.41 s\n"
     ]
    }
   ],
   "source": [
    "%%time\n",
    "file_templates = {\"cats\": \"cat.{}.jpg\", \"dogs\": \"dog.{}.jpg\"}\n",
    "data_splits = (\n",
    "    (\"train\", 0, 1000),          # Copy first 1000 images to train dirs\n",
    "    (\"validation\", 1000, 1500),  # Copy next 500 images into validation dirs\n",
    "    (\"test\", 1500, 2000),        # Copy next 500 images into test dirs\n",
    ")\n",
    "\n",
    "for (part, start, stop) in data_splits:\n",
    "    for category in (\"cats\", \"dogs\"):\n",
    "        copy_files_range(\n",
    "            original_data_dir,\n",
    "            leaf_dirs[(part, category)],\n",
    "            file_templates[category],\n",
    "            start,\n",
    "            stop\n",
    "        )"
   ]
  },
  {
   "cell_type": "code",
   "execution_count": 32,
   "metadata": {},
   "outputs": [
    {
     "name": "stdout",
     "output_type": "stream",
     "text": [
      "total train images of cats:         1000\n",
      "total train images of dogs:         1000\n",
      "total validation images of cats:    500\n",
      "total validation images of dogs:    500\n",
      "total test images of cats:          500\n",
      "total test images of dogs:          500\n"
     ]
    }
   ],
   "source": [
    "for part in (\"train\", \"validation\", \"test\"):\n",
    "    for category in (\"cats\", \"dogs\"):\n",
    "        desc = \"total {} images of {}:\".format(part, category)\n",
    "        num_files_in_dir = len(os.listdir(leaf_dirs[(part, category)]))\n",
    "        print(desc.ljust(35), num_files_in_dir)"
   ]
  }
 ],
 "metadata": {
  "kernelspec": {
   "display_name": "Python 3",
   "language": "python",
   "name": "python3"
  },
  "language_info": {
   "codemirror_mode": {
    "name": "ipython",
    "version": 3
   },
   "file_extension": ".py",
   "mimetype": "text/x-python",
   "name": "python",
   "nbconvert_exporter": "python",
   "pygments_lexer": "ipython3",
   "version": "3.6.5"
  }
 },
 "nbformat": 4,
 "nbformat_minor": 2
}
