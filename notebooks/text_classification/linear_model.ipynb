{
 "cells": [
  {
   "cell_type": "code",
   "execution_count": 1,
   "metadata": {},
   "outputs": [],
   "source": [
    "%config InlineBackend.figure_format = 'retina'"
   ]
  },
  {
   "cell_type": "code",
   "execution_count": 2,
   "metadata": {},
   "outputs": [],
   "source": [
    "%load_ext autoreload\n",
    "\n",
    "%autoreload 1"
   ]
  },
  {
   "cell_type": "code",
   "execution_count": 3,
   "metadata": {},
   "outputs": [],
   "source": [
    "import numpy as np\n",
    "\n",
    "import pickle\n",
    "\n",
    "from pathlib import Path"
   ]
  },
  {
   "cell_type": "markdown",
   "metadata": {},
   "source": [
    "# Load data"
   ]
  },
  {
   "cell_type": "code",
   "execution_count": 4,
   "metadata": {},
   "outputs": [],
   "source": [
    "data_root = Path.home() / \"data\" / \"tmp\"\n",
    "reuters_corpus_path = data_root / \"reuters21578\" / \"corpus.pkl\"\n",
    "reuters = pickle.load(open(reuters_corpus_path, \"rb\"))\n",
    "top_ten_ids, top_ten_names = reuters.top_n(n=10)"
   ]
  },
  {
   "cell_type": "markdown",
   "metadata": {},
   "source": [
    "# Simple linear model"
   ]
  },
  {
   "cell_type": "markdown",
   "metadata": {},
   "source": [
    "### Get text and labels"
   ]
  },
  {
   "cell_type": "code",
   "execution_count": 5,
   "metadata": {},
   "outputs": [
    {
     "name": "stdout",
     "output_type": "stream",
     "text": [
      "7770 3019\n"
     ]
    }
   ],
   "source": [
    "train_docs, test_docs = reuters.split_modapte()\n",
    "print(len(train_docs), len(test_docs))\n",
    "\n",
    "train = [d[\"text\"] for d in train_docs]\n",
    "train_labels = reuters.get_labels(train_docs, set(top_ten_ids))\n",
    "y_train = np.array(train_labels)\n",
    "\n",
    "test = [d[\"text\"] for d in test_docs]\n",
    "test_labels = reuters.get_labels(test_docs, set(top_ten_ids))\n",
    "y_test = np.array(test_labels)"
   ]
  },
  {
   "cell_type": "markdown",
   "metadata": {},
   "source": [
    "### Vectorize texts"
   ]
  },
  {
   "cell_type": "code",
   "execution_count": 6,
   "metadata": {},
   "outputs": [],
   "source": [
    "from sklearn.feature_extraction.text import TfidfVectorizer"
   ]
  },
  {
   "cell_type": "code",
   "execution_count": 7,
   "metadata": {},
   "outputs": [
    {
     "data": {
      "text/plain": [
       "TfidfVectorizer(analyzer='word', binary=False, decode_error='strict',\n",
       "        dtype=<class 'numpy.float64'>, encoding='utf-8', input='content',\n",
       "        lowercase=True, max_df=1.0, max_features=None, min_df=1,\n",
       "        ngram_range=(1, 1), norm='l2', preprocessor=None, smooth_idf=True,\n",
       "        stop_words=None, strip_accents=None, sublinear_tf=False,\n",
       "        token_pattern='(?u)\\\\b\\\\w\\\\w+\\\\b', tokenizer=None, use_idf=True,\n",
       "        vocabulary=None)"
      ]
     },
     "execution_count": 7,
     "metadata": {},
     "output_type": "execute_result"
    }
   ],
   "source": [
    "vectorizer = TfidfVectorizer()\n",
    "vectorizer.fit(train)"
   ]
  },
  {
   "cell_type": "code",
   "execution_count": 8,
   "metadata": {},
   "outputs": [],
   "source": [
    "X_train = vectorizer.transform(train)\n",
    "X_test = vectorizer.transform(test)"
   ]
  },
  {
   "cell_type": "markdown",
   "metadata": {},
   "source": [
    "### Test models"
   ]
  },
  {
   "cell_type": "code",
   "execution_count": 9,
   "metadata": {},
   "outputs": [],
   "source": [
    "from sklearn.metrics import classification_report"
   ]
  },
  {
   "cell_type": "markdown",
   "metadata": {},
   "source": [
    "#### Logistic regression"
   ]
  },
  {
   "cell_type": "code",
   "execution_count": 21,
   "metadata": {},
   "outputs": [],
   "source": [
    "from sklearn.linear_model import LogisticRegression\n",
    "#model = LogisticRegression(C=100., solver=\"liblinear\", multi_class=\"ovr\")\n",
    "model = LogisticRegression(solver=\"liblinear\", multi_class=\"ovr\")\n",
    "model.fit(X_train, y_train)\n",
    "y_pred = model.predict(X_test)"
   ]
  },
  {
   "cell_type": "code",
   "execution_count": 22,
   "metadata": {},
   "outputs": [
    {
     "name": "stdout",
     "output_type": "stream",
     "text": [
      "              precision    recall  f1-score   support\n",
      "\n",
      "        earn       0.98      0.99      0.98      1087\n",
      "         acq       0.94      0.98      0.96       710\n",
      "    money-fx       0.69      0.82      0.75       145\n",
      "       grain       0.62      0.55      0.58        42\n",
      "       crude       0.80      0.88      0.84       164\n",
      "       trade       0.68      0.85      0.76       109\n",
      "    interest       0.80      0.72      0.76       117\n",
      "        ship       0.66      0.63      0.65        71\n",
      "       wheat       0.75      0.73      0.74        55\n",
      "        corn       0.66      0.69      0.67        45\n",
      "\n",
      "   micro avg       0.89      0.92      0.91      2545\n",
      "   macro avg       0.76      0.78      0.77      2545\n",
      "weighted avg       0.89      0.92      0.91      2545\n",
      "\n"
     ]
    }
   ],
   "source": [
    "print(classification_report(y_test, y_pred, target_names=top_ten_names, labels=top_ten_ids))"
   ]
  },
  {
   "cell_type": "markdown",
   "metadata": {},
   "source": [
    "#### Linear Support Vector Machine"
   ]
  },
  {
   "cell_type": "code",
   "execution_count": 12,
   "metadata": {},
   "outputs": [],
   "source": [
    "from sklearn.svm import LinearSVC\n",
    "model = LinearSVC()\n",
    "model.fit(X_train, y_train)\n",
    "y_pred = model.predict(X_test)"
   ]
  },
  {
   "cell_type": "code",
   "execution_count": 13,
   "metadata": {},
   "outputs": [
    {
     "name": "stdout",
     "output_type": "stream",
     "text": [
      "              precision    recall  f1-score   support\n",
      "\n",
      "        earn      0.989     0.981     0.985      1087\n",
      "         acq      0.926     0.982     0.953       710\n",
      "    money-fx      0.731     0.807     0.767       145\n",
      "       grain      0.657     0.548     0.597        42\n",
      "       crude      0.802     0.890     0.844       164\n",
      "       trade      0.734     0.835     0.781       109\n",
      "    interest      0.815     0.752     0.782       117\n",
      "        ship      0.738     0.634     0.682        71\n",
      "       wheat      0.750     0.709     0.729        55\n",
      "        corn      0.640     0.711     0.674        45\n",
      "\n",
      "   micro avg      0.900     0.921     0.911      2545\n",
      "   macro avg      0.778     0.785     0.779      2545\n",
      "weighted avg      0.902     0.921     0.910      2545\n",
      "\n"
     ]
    }
   ],
   "source": [
    "print(classification_report(y_test, y_pred, target_names=top_ten_names, labels=top_ten_ids, digits=3))"
   ]
  },
  {
   "cell_type": "markdown",
   "metadata": {},
   "source": [
    "#### Naive Bayes"
   ]
  },
  {
   "cell_type": "code",
   "execution_count": 14,
   "metadata": {},
   "outputs": [],
   "source": [
    "from sklearn.naive_bayes import MultinomialNB\n",
    "\n",
    "model = MultinomialNB()\n",
    "model.fit(X_train, y_train)\n",
    "y_pred = model.predict(X_test)"
   ]
  },
  {
   "cell_type": "code",
   "execution_count": 15,
   "metadata": {},
   "outputs": [
    {
     "name": "stdout",
     "output_type": "stream",
     "text": [
      "              precision    recall  f1-score   support\n",
      "\n",
      "        earn       0.68      0.99      0.80      1087\n",
      "         acq       0.56      0.94      0.70       710\n",
      "    money-fx       0.66      0.54      0.60       145\n",
      "       grain       0.00      0.00      0.00        42\n",
      "       crude       0.93      0.26      0.40       164\n",
      "       trade       0.91      0.28      0.43       109\n",
      "    interest       0.81      0.18      0.29       117\n",
      "        ship       1.00      0.01      0.03        71\n",
      "       wheat       0.00      0.00      0.00        55\n",
      "        corn       0.00      0.00      0.00        45\n",
      "\n",
      "   micro avg       0.63      0.75      0.69      2545\n",
      "   macro avg       0.55      0.32      0.33      2545\n",
      "weighted avg       0.65      0.75      0.63      2545\n",
      "\n"
     ]
    },
    {
     "name": "stderr",
     "output_type": "stream",
     "text": [
      "/Users/jochen/miniconda3/envs/ds_tutorial/lib/python3.6/site-packages/sklearn/metrics/classification.py:1143: UndefinedMetricWarning: Precision and F-score are ill-defined and being set to 0.0 in labels with no predicted samples.\n",
      "  'precision', 'predicted', average, warn_for)\n"
     ]
    }
   ],
   "source": [
    "print(classification_report(y_test, y_pred, target_names=top_ten_names, labels=top_ten_ids))"
   ]
  }
 ],
 "metadata": {
  "kernelspec": {
   "display_name": "Python 3",
   "language": "python",
   "name": "python3"
  },
  "language_info": {
   "codemirror_mode": {
    "name": "ipython",
    "version": 3
   },
   "file_extension": ".py",
   "mimetype": "text/x-python",
   "name": "python",
   "nbconvert_exporter": "python",
   "pygments_lexer": "ipython3",
   "version": "3.6.8"
  }
 },
 "nbformat": 4,
 "nbformat_minor": 2
}
