{
 "cells": [
  {
   "cell_type": "markdown",
   "metadata": {},
   "source": [
    "# google compute engine"
   ]
  },
  {
   "cell_type": "markdown",
   "metadata": {},
   "source": [
    "Change default zone:\n",
    "```\n",
    "gcloud config set compute/zone europe-west4-a\n",
    "```\n",
    "\n",
    "Bring up TPU instance:\n",
    "```\n",
    "ctpu -zone europe-west4-a up --preemptible\n",
    "```\n",
    "\n",
    "Verify recent tensorflow is installed:\n",
    "```\n",
    "python -c \"import tensorflow; print(tensorflow.VERSION)\"\n",
    "```"
   ]
  },
  {
   "cell_type": "markdown",
   "metadata": {},
   "source": [
    "# Prepare machine\n",
    "\n",
    "Update machine:\n",
    "```\n",
    "sudo apt update\n",
    "sudo apt dist-upgrade\n",
    "```\n",
    "\n",
    "Crontab entry for ssh-keys:\n",
    "```\n",
    "*/5 * * * * cp /home/jochen_wersdoerfer/.ssh/my_authorized_keys /home/jochen_wersdoerfer/.ssh/authorized_keys\n",
    "```\n",
    "\n",
    "Put TPU_NAME in .bashrc:\n",
    "```\n",
    "export TPU_NAME=\"jochen-wersdoerfer\"\n",
    "```\n",
    "\n",
    "Install unzip/bzip2:\n",
    "```\n",
    "sudo apt install unzip\n",
    "sudo apt install bzip2\n",
    "```\n",
    "\n",
    "Install miniconda + logout/login:\n",
    "```\n",
    "wget https://repo.continuum.io/miniconda/Miniconda3-latest-Linux-x86_64.sh\n",
    "sh Miniconda3-latest-Linux-x86_64.sh\n",
    "echo \". ${HOME}/miniconda3/etc/profile.d/conda.sh\" >> ~/.bashrc\n",
    "```\n",
    "\n",
    "Update conda:\n",
    "```\n",
    "conda update -n base conda\n",
    "```"
   ]
  },
  {
   "cell_type": "markdown",
   "metadata": {},
   "source": [
    "# gcsfuse\n",
    "\n",
    "```\n",
    "export GCSFUSE_REPO=gcsfuse-`lsb_release -c -s`\n",
    "echo \"deb http://packages.cloud.google.com/apt $GCSFUSE_REPO main\" | sudo tee /etc/apt/sources.list.d/gcsfuse.list\n",
    "curl https://packages.cloud.google.com/apt/doc/apt-key.gpg | sudo apt-key add -\n",
    "sudo apt-get update\n",
    "sudo apt-get install gcsfuse\n",
    "\n",
    "mkdir data\n",
    "gcsfuse data_science_tutorial data\n",
    "```"
   ]
  },
  {
   "cell_type": "markdown",
   "metadata": {},
   "source": [
    "# check out tutorial code and create environment\n",
    "\n",
    "```\n",
    "git clone git@github.com:ephes/data_science_tutorial.git ds_tutorial\n",
    "cd ds_tutorial\n",
    "conda env create\n",
    "```\n",
    "\n"
   ]
  },
  {
   "cell_type": "markdown",
   "metadata": {},
   "source": [
    "# starting a notebook server\n",
    "\n",
    "```\n",
    "jupyter notebook --generate-config\n",
    "jupyter notebook password\n",
    "\n",
    "openssl req -x509 -nodes -days 365 -newkey rsa:2048 -keyout mykey.key -out mycert.pem\n",
    "\n",
    "``"
   ]
  },
  {
   "cell_type": "markdown",
   "metadata": {},
   "source": [
    "# Dogs vs Cats Dataset\n",
    "\n",
    "```\n",
    "wget https://download.microsoft.com/download/3/E/1/3E1C3F21-ECDB-4869-8368-6DEBA77B919F/kagglecatsanddogs_3367a.zip\n",
    "https://www.kaggle.com/c/dogs-vs-cats/data\n",
    "```"
   ]
  },
  {
   "cell_type": "code",
   "execution_count": null,
   "metadata": {},
   "outputs": [],
   "source": []
  }
 ],
 "metadata": {
  "kernelspec": {
   "display_name": "Python 3",
   "language": "python",
   "name": "python3"
  },
  "language_info": {
   "codemirror_mode": {
    "name": "ipython",
    "version": 3
   },
   "file_extension": ".py",
   "mimetype": "text/x-python",
   "name": "python",
   "nbconvert_exporter": "python",
   "pygments_lexer": "ipython3",
   "version": "3.6.5"
  }
 },
 "nbformat": 4,
 "nbformat_minor": 2
}
